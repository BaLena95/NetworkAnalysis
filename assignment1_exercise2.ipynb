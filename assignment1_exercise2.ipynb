{
 "cells": [
  {
   "cell_type": "markdown",
   "id": "banned-immunology",
   "metadata": {},
   "source": [
    "# Assignment 1 - Exercise two: Identifying objects from images"
   ]
  },
  {
   "cell_type": "code",
   "execution_count": 29,
   "id": "black-rubber",
   "metadata": {},
   "outputs": [],
   "source": [
    "import numpy as np\n",
    "from tensorflow import keras\n",
    "from tensorflow.keras import layers\n",
    "import matplotlib.pyplot as plt"
   ]
  },
  {
   "cell_type": "code",
   "execution_count": 30,
   "id": "executive-sheep",
   "metadata": {},
   "outputs": [],
   "source": [
    "# load dataset CIFAR-10 of color images of objects (32x32x3 pixels)\n",
    "# 10 categories ob objects\n",
    "# 50k images in training set (x_train, y_train)\n",
    "# 10k in test set (x_test, y_test)\n",
    "(x_train, y_train), (x_test, y_test) = keras.datasets.cifar10.load_data()"
   ]
  },
  {
   "cell_type": "code",
   "execution_count": 31,
   "id": "lyric-sheriff",
   "metadata": {},
   "outputs": [
    {
     "name": "stdout",
     "output_type": "stream",
     "text": [
      "shape of the training images: (50000, 32, 32, 3)\n"
     ]
    }
   ],
   "source": [
    "# rescale to values between zero and one by dividing by 255\n",
    "x_train = x_train/255\n",
    "x_test = x_test/255\n",
    "\n",
    "#already has the right dimensions for keras input\n",
    "print(\"shape of the training images:\", x_train.shape)\n",
    "\n",
    "#convert training and test labels to categorial variables \n",
    "y_train = keras.utils.to_categorical(y_train, 10) # 10 classes 1 for each object\n",
    "y_test = keras.utils.to_categorical(y_test, 10)"
   ]
  },
  {
   "cell_type": "code",
   "execution_count": 36,
   "id": "distinct-pepper",
   "metadata": {},
   "outputs": [
    {
     "name": "stdout",
     "output_type": "stream",
     "text": [
      "Epoch 1/20\n",
      "1563/1563 [==============================] - 97s 62ms/step - loss: 1.8573 - accuracy: 0.3116 - val_loss: 1.5855 - val_accuracy: 0.4236\n",
      "Epoch 2/20\n",
      "1563/1563 [==============================] - 94s 60ms/step - loss: 1.5626 - accuracy: 0.4310 - val_loss: 1.4197 - val_accuracy: 0.4869\n",
      "Epoch 3/20\n",
      "1563/1563 [==============================] - 93s 60ms/step - loss: 1.4329 - accuracy: 0.4853 - val_loss: 1.3156 - val_accuracy: 0.5278\n",
      "Epoch 4/20\n",
      "1563/1563 [==============================] - 95s 61ms/step - loss: 1.3441 - accuracy: 0.5212 - val_loss: 1.2456 - val_accuracy: 0.5557\n",
      "Epoch 5/20\n",
      "1563/1563 [==============================] - 95s 61ms/step - loss: 1.2740 - accuracy: 0.5454 - val_loss: 1.1998 - val_accuracy: 0.5775\n",
      "Epoch 6/20\n",
      "1563/1563 [==============================] - 93s 60ms/step - loss: 1.2164 - accuracy: 0.5673 - val_loss: 1.1233 - val_accuracy: 0.6045\n",
      "Epoch 7/20\n",
      "1563/1563 [==============================] - 93s 60ms/step - loss: 1.1650 - accuracy: 0.5894 - val_loss: 1.0725 - val_accuracy: 0.6246\n",
      "Epoch 8/20\n",
      "1563/1563 [==============================] - 100s 64ms/step - loss: 1.1178 - accuracy: 0.6038 - val_loss: 1.0865 - val_accuracy: 0.6260\n",
      "Epoch 9/20\n",
      "1563/1563 [==============================] - 111s 71ms/step - loss: 1.0762 - accuracy: 0.6220 - val_loss: 0.9970 - val_accuracy: 0.6503\n",
      "Epoch 10/20\n",
      "1563/1563 [==============================] - 114s 73ms/step - loss: 1.0378 - accuracy: 0.6338 - val_loss: 0.9777 - val_accuracy: 0.6641\n",
      "Epoch 11/20\n",
      "1563/1563 [==============================] - 115s 74ms/step - loss: 1.0112 - accuracy: 0.6452 - val_loss: 0.9496 - val_accuracy: 0.6680\n",
      "Epoch 12/20\n",
      "1563/1563 [==============================] - 99s 63ms/step - loss: 0.9799 - accuracy: 0.6546 - val_loss: 0.9338 - val_accuracy: 0.6709\n",
      "Epoch 13/20\n",
      "1563/1563 [==============================] - 94s 60ms/step - loss: 0.9567 - accuracy: 0.6635 - val_loss: 0.9336 - val_accuracy: 0.6725\n",
      "Epoch 14/20\n",
      "1563/1563 [==============================] - 90s 58ms/step - loss: 0.9347 - accuracy: 0.6724 - val_loss: 0.9214 - val_accuracy: 0.6823\n",
      "Epoch 15/20\n",
      "1563/1563 [==============================] - 92s 59ms/step - loss: 0.9159 - accuracy: 0.6775 - val_loss: 0.8855 - val_accuracy: 0.6914\n",
      "Epoch 16/20\n",
      "1563/1563 [==============================] - 96s 62ms/step - loss: 0.8992 - accuracy: 0.6858 - val_loss: 0.8510 - val_accuracy: 0.7040\n",
      "Epoch 17/20\n",
      "1563/1563 [==============================] - 96s 61ms/step - loss: 0.8792 - accuracy: 0.6923 - val_loss: 0.8660 - val_accuracy: 0.7026\n",
      "Epoch 18/20\n",
      "1563/1563 [==============================] - 93s 60ms/step - loss: 0.8628 - accuracy: 0.6979 - val_loss: 0.8157 - val_accuracy: 0.7181\n",
      "Epoch 19/20\n",
      "1563/1563 [==============================] - 95s 61ms/step - loss: 0.8502 - accuracy: 0.7022 - val_loss: 0.8009 - val_accuracy: 0.7211\n",
      "Epoch 20/20\n",
      "1563/1563 [==============================] - 95s 61ms/step - loss: 0.8413 - accuracy: 0.7053 - val_loss: 0.7990 - val_accuracy: 0.7217\n",
      "Model: \"sequential_1\"\n",
      "_________________________________________________________________\n",
      "Layer (type)                 Output Shape              Param #   \n",
      "=================================================================\n",
      "conv2d_4 (Conv2D)            (None, 32, 32, 32)        896       \n",
      "_________________________________________________________________\n",
      "conv2d_5 (Conv2D)            (None, 30, 30, 32)        9248      \n",
      "_________________________________________________________________\n",
      "max_pooling2d_2 (MaxPooling2 (None, 15, 15, 32)        0         \n",
      "_________________________________________________________________\n",
      "dropout_3 (Dropout)          (None, 15, 15, 32)        0         \n",
      "_________________________________________________________________\n",
      "conv2d_6 (Conv2D)            (None, 15, 15, 32)        9248      \n",
      "_________________________________________________________________\n",
      "conv2d_7 (Conv2D)            (None, 13, 13, 32)        9248      \n",
      "_________________________________________________________________\n",
      "max_pooling2d_3 (MaxPooling2 (None, 6, 6, 32)          0         \n",
      "_________________________________________________________________\n",
      "dropout_4 (Dropout)          (None, 6, 6, 32)          0         \n",
      "_________________________________________________________________\n",
      "flatten_1 (Flatten)          (None, 1152)              0         \n",
      "_________________________________________________________________\n",
      "dense_2 (Dense)              (None, 512)               590336    \n",
      "_________________________________________________________________\n",
      "dropout_5 (Dropout)          (None, 512)               0         \n",
      "_________________________________________________________________\n",
      "dense_3 (Dense)              (None, 10)                5130      \n",
      "=================================================================\n",
      "Total params: 624,106\n",
      "Trainable params: 624,106\n",
      "Non-trainable params: 0\n",
      "_________________________________________________________________\n"
     ]
    }
   ],
   "source": [
    "# convolutional model with two layers\n",
    "model = keras.Sequential()\n",
    "\n",
    "# 2 convolutional layers\n",
    "model.add(keras.layers.Conv2D(filters=32, kernel_size=(3, 3), \n",
    "                              activation=\"relu\", input_shape=(32, 32, 3), padding = \"same\"))\n",
    "          \n",
    "model.add(keras.layers.Conv2D(filters=32, kernel_size=(3, 3), \n",
    "                             activation=\"relu\"))\n",
    "\n",
    "# pooling to decrease dimensions  \n",
    "model.add(keras.layers.MaxPool2D(pool_size=(2, 2)))      \n",
    "model.add(keras.layers.Dropout(rate=0.25)) #dropout of 25%\n",
    "\n",
    "## add the same layers again without input shape\n",
    "model.add(keras.layers.Conv2D(filters=32, kernel_size=(3, 3),\n",
    "                              activation=\"relu\", padding = \"same\"))#32 filters in the first layer\n",
    "model.add(keras.layers.Conv2D(filters=32, kernel_size=(3, 3),\n",
    "                              activation=\"relu\"))\n",
    "\n",
    "# pooling the data 2nd time\n",
    "model.add(keras.layers.MaxPool2D(pool_size=(2, 2))) # pooling to decrease dimensions        \n",
    "model.add(keras.layers.Dropout(rate=0.25)) # again add dropout\n",
    "            \n",
    "#flatten to one dimension\n",
    "model.add(keras.layers.Flatten())\n",
    "# full Dense layer\n",
    "model.add(keras.layers.Dense(512, activation=\"relu\"))\n",
    "# ADD Dropout of 0.5\n",
    "model.add(keras.layers.Dropout(rate=0.5))\n",
    "#Output layer with 10 units\n",
    "model.add(keras.layers.Dense(10, activation=\"softmax\")) \n",
    "#compile the model\n",
    "model.compile(loss='categorical_crossentropy',\n",
    "              optimizer=keras.optimizers.RMSprop(lr=0.0001, decay=1e-6), \n",
    "              metrics='accuracy')\n",
    "\n",
    "# fit the model\n",
    "history = model.fit(x_train, y_train, batch_size=32, epochs=20, validation_data=(x_test, y_test), shuffle = True)\n",
    "\n",
    "model.summary()"
   ]
  },
  {
   "cell_type": "markdown",
   "id": "creative-bridal",
   "metadata": {},
   "source": [
    "## about decay\n",
    "Having fewer parameters is only one way of preventing our model from getting overly complex. But it is actually a very limiting strategy. More parameters mean more interactions between various parts of our neural network. And more interactions mean more non-linearities. These non-linearities help us solve complex problems. However, we don’t want these interactions to get out of hand. Hence, what if we penalize complexity. We will still use a lot of parameters, but we will prevent our model from getting too complex. This is how the idea of weight decay came up.\n",
    "One way to penalize complexity, would be to add all our parameters (weights) to our loss function. Well, that won’t quite work because some parameters are positive and some are negative. So what if we add the squares of all the parameters to our loss function. We can do that, however it might result in our loss getting so huge that the best model would be to set all the parameters to 0.To prevent that from happening, we multiply the sum of squares with another smaller number. This number is called weight decay.\n",
    "\n",
    "## about padding\n",
    "An alternative approach to applying a filter to an image is to ensure that each pixel in the image is given an opportunity to be at the center of the filter.\n",
    "In Keras, this is specified via the “padding” argument on the Conv2D layer, which has the default value of ‘valid‘ (no padding). This means that the filter is applied only to valid ways to the input.\n",
    "The ‘padding‘ value of ‘same‘ calculates and adds the padding required to the input image (or feature map) to ensure that the output has the same shape as the input."
   ]
  },
  {
   "cell_type": "code",
   "execution_count": 38,
   "id": "realistic-copper",
   "metadata": {},
   "outputs": [
    {
     "name": "stdout",
     "output_type": "stream",
     "text": [
      "loss of Model: 0.7990351915359497\n",
      "accuracy of Model: 0.7217000126838684\n"
     ]
    }
   ],
   "source": [
    "loss, accuracy = model.evaluate(x_test, y_test, verbose=0)\n",
    "print(\"loss of Model:\", loss)\n",
    "print(\"accuracy of Model:\", accuracy)"
   ]
  },
  {
   "cell_type": "markdown",
   "id": "sufficient-steel",
   "metadata": {},
   "source": [
    "### Question 17: \n",
    "Plot the training history and show it to your teacher"
   ]
  },
  {
   "cell_type": "code",
   "execution_count": 40,
   "id": "major-painting",
   "metadata": {},
   "outputs": [
    {
     "data": {
      "image/png": "[encoded data removed]",
      "text/plain": [
       "<Figure size 432x288 with 1 Axes>"
      ]
     },
     "metadata": {
      "needs_background": "light"
     },
     "output_type": "display_data"
    }
   ],
   "source": [
    "# Question 17\n",
    "# summarize history for accuracy Model 4\n",
    "plt.plot(history.history['accuracy'])\n",
    "plt.plot(history.history['val_accuracy'])\n",
    "plt.title('Accuracy of Model')\n",
    "plt.ylabel('accuracy')\n",
    "plt.xlabel('epoch')\n",
    "plt.legend(['train', 'test'], loc='upper left')\n",
    "plt.show()"
   ]
  },
  {
   "cell_type": "markdown",
   "id": "liked-sending",
   "metadata": {},
   "source": [
    "### Question 18:\n",
    "Discuss with your group, then describe to your teacher, how the training history differs from the convolutional model for digit recognition and why.\n",
    "\n",
    "Answer 18:\n",
    "The model is a lot more complex with added layers and dropouts. Another big change is the difference in learning rate as this model uses a learning rate of 0.001 while the previous model used a lr of 1 and therefore made a lot bigger changes. As one can see in the plot above, the accuracy of the model doesn't jump as high after the first epoch but continues to improve due to the smaller learning rate. The test accuracy is higher than the training accuracy but both are still rather low."
   ]
  },
  {
   "cell_type": "markdown",
   "id": "personal-hunger",
   "metadata": {},
   "source": [
    "### Question 19:\n",
    "Discuss with your group, then describe to your teacher, how the time taken for each training epoch differs from the convolutional model for digit recognition. Give several factors that may contribute to this difference.\n",
    "\n",
    "Answer 19:\n",
    "1. It took a lot longer for each epoch to run as the model is much more complex and includes more layers. \n",
    "This might be due to:\n",
    "- learning rate (0.0001 vs. 1 in the convolutional model)\n",
    "- number of layers in the model (12 layers vs. 8 layers in the convolutional model)\n",
    "- optimizer (\n",
    "\n",
    "*Adadelta*: Instead of accumulating all previously squared gradients, Adadelta limits the window of accumulated past gradients to some fixed size w. In this exponentially moving average is used rather than the sum of all the gradients.\n",
    "\n",
    "*RMSprop*: The centered version additionally maintains a moving average of the gradients, and uses that average to estimate the variance.\n"
   ]
  }
 ],
 "metadata": {
  "kernelspec": {
   "display_name": "Python 3",
   "language": "python",
   "name": "python3"
  },
  "language_info": {
   "codemirror_mode": {
    "name": "ipython",
    "version": 3
   },
   "file_extension": ".py",
   "mimetype": "text/x-python",
   "name": "python",
   "nbconvert_exporter": "python",
   "pygments_lexer": "ipython3",
   "version": "3.8.5"
  }
 },
 "nbformat": 4,
 "nbformat_minor": 5
}
