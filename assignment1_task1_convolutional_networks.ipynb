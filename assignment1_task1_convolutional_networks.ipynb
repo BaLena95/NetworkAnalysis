{
 "cells": [
  {
   "cell_type": "markdown",
   "id": "ethical-gibraltar",
   "metadata": {},
   "source": [
    "# Assignment 1"
   ]
  },
  {
   "cell_type": "markdown",
   "id": "proprietary-handle",
   "metadata": {},
   "source": [
    "## Deep convolutional networks - new topic"
   ]
  },
  {
   "cell_type": "markdown",
   "id": "stunning-mozambique",
   "metadata": {},
   "source": [
    "> each convolutional filter samples from the limited space in the previous layer’s feature map\n",
    "> need more layers to allow more spatial integration\n",
    "> multiple feature maps at each layer to capture the multiple meaningful spatial relationships that are possible\n",
    "> increases computational load"
   ]
  },
  {
   "cell_type": "code",
   "execution_count": 2,
   "id": "underlying-buyer",
   "metadata": {},
   "outputs": [],
   "source": [
    "import numpy as np\n",
    "from tensorflow import keras\n",
    "from tensorflow.keras import layers\n",
    "import matplotlib.pyplot as plt"
   ]
  },
  {
   "cell_type": "code",
   "execution_count": 8,
   "id": "blessed-affiliation",
   "metadata": {},
   "outputs": [
    {
     "name": "stdout",
     "output_type": "stream",
     "text": [
      "shape of training set (60000, 28, 28, 1)\n",
      "shape of test set (10000, 28, 28, 1)\n",
      "\n",
      " labels for training\n",
      " [1. 0. 0. 0. 0. 0. 0. 0. 0. 0.]\n",
      "\n",
      " and test\n",
      " [0. 0. 1. 0. 0. 0. 0. 0. 0. 0.]\n"
     ]
    }
   ],
   "source": [
    "# dataset of 60k grayscale images of handwritten numbers (x_train) and \n",
    "# labels of each picture (y_train)\n",
    "(x_train, y_train), (x_test, y_test) = keras.datasets.mnist.load_data()\n",
    "\n",
    "# Reshape x_train to size 60000, 28, 28, 1. Reshape x_test to size 10000, 28, 28, 1. \n",
    "### WHY? -1\n",
    "x_train = np.expand_dims(x_train, -1) # (60000, 28, 28, 1)\n",
    "x_test = np.expand_dims(x_test, -1) # (10000, 28, 28, 1)\n",
    "print(\"shape of training set\", x_train.shape)\n",
    "print(\"shape of test set\", x_test.shape)\n",
    "\n",
    "# Rescale both results to values between zero and one as before.\n",
    "x_train = x_train/255\n",
    "x_test = x_test/255\n",
    "\n",
    "# the labels y_train and y_test are categorial units (like previous exercises)\n",
    "# 10 categories numbers 0-9\n",
    "y_train = keras.utils.to_categorical(y_train, 10)# 10=number of classes\n",
    "y_test = keras.utils.to_categorical(y_test, 10)\n",
    "\n",
    "print(\"\\n labels for training\\n\", y_train[1])\n",
    "print(\"\\n and test\\n\", y_test[1])"
   ]
  },
  {
   "cell_type": "code",
   "execution_count": 9,
   "id": "expensive-collaboration",
   "metadata": {},
   "outputs": [
    {
     "name": "stdout",
     "output_type": "stream",
     "text": [
      "Epoch 1/6\n",
      "375/375 [==============================] - 44s 117ms/step - loss: 0.2357 - accuracy: 0.9270 - val_loss: 0.0740 - val_accuracy: 0.9783\n",
      "Epoch 2/6\n",
      "375/375 [==============================] - 43s 116ms/step - loss: 0.0514 - accuracy: 0.9843 - val_loss: 0.0483 - val_accuracy: 0.9853\n",
      "Epoch 3/6\n",
      "375/375 [==============================] - 44s 118ms/step - loss: 0.0310 - accuracy: 0.9901 - val_loss: 0.0471 - val_accuracy: 0.9861\n",
      "Epoch 4/6\n",
      "375/375 [==============================] - 44s 118ms/step - loss: 0.0203 - accuracy: 0.9937 - val_loss: 0.0439 - val_accuracy: 0.9873\n",
      "Epoch 5/6\n",
      "375/375 [==============================] - 44s 117ms/step - loss: 0.0144 - accuracy: 0.9953 - val_loss: 0.0432 - val_accuracy: 0.9875\n",
      "Epoch 6/6\n",
      "375/375 [==============================] - 45s 120ms/step - loss: 0.0094 - accuracy: 0.9971 - val_loss: 0.0475 - val_accuracy: 0.9876\n",
      "Model: \"sequential_1\"\n",
      "_________________________________________________________________\n",
      "Layer (type)                 Output Shape              Param #   \n",
      "=================================================================\n",
      "conv2d_2 (Conv2D)            (None, 26, 26, 32)        320       \n",
      "_________________________________________________________________\n",
      "conv2d_3 (Conv2D)            (None, 24, 24, 64)        18496     \n",
      "_________________________________________________________________\n",
      "max_pooling2d_1 (MaxPooling2 (None, 12, 12, 64)        0         \n",
      "_________________________________________________________________\n",
      "flatten_1 (Flatten)          (None, 9216)              0         \n",
      "_________________________________________________________________\n",
      "dense_2 (Dense)              (None, 128)               1179776   \n",
      "_________________________________________________________________\n",
      "dense_3 (Dense)              (None, 10)                1290      \n",
      "=================================================================\n",
      "Total params: 1,199,882\n",
      "Trainable params: 1,199,882\n",
      "Non-trainable params: 0\n",
      "_________________________________________________________________\n"
     ]
    }
   ],
   "source": [
    "# convolutional model with two layers\n",
    "\n",
    "model3 = keras.Sequential()\n",
    "# 2 convolutional layers\n",
    "model3.add(keras.layers.Conv2D(filters=32, kernel_size=(3, 3), activation=\"relu\", input_shape=(28, 28, 1)))#32 filters in the first layer\n",
    "model3.add(keras.layers.Conv2D(filters=64, kernel_size=(3, 3), activation=\"relu\")) # 64 filters in the second layer with 3x3 pixel filters\n",
    "#pooling to downsize layer to half it's size (2,2) in both dimensions\n",
    "model3.add(keras.layers.MaxPool2D(pool_size=(2, 2)))\n",
    "#flatten to one dimension\n",
    "model3.add(keras.layers.Flatten())\n",
    "model3.add(keras.layers.Dense(128, activation=\"relu\"))\n",
    "model3.add(keras.layers.Dense(10, activation=\"softmax\"))\n",
    "\n",
    "#compile the model #default learning rate is 0.001\n",
    "model3.compile(loss='categorical_crossentropy',\n",
    "              optimizer=keras.optimizers.Adadelta(learning_rate=1), #learning rate = how much the parameters change after each epoch\n",
    "              metrics='accuracy')\n",
    "\n",
    "# fit the model\n",
    "history3 = model3.fit(x_train, y_train, batch_size=128, epochs=6, validation_split=0.2)\n",
    "\n",
    "model3.summary()"
   ]
  },
  {
   "cell_type": "markdown",
   "id": "compliant-asbestos",
   "metadata": {},
   "source": [
    "Question 10: Plot the training history and show this to your teacher"
   ]
  },
  {
   "cell_type": "code",
   "execution_count": 10,
   "id": "controlled-missile",
   "metadata": {},
   "outputs": [
    {
     "data": {
      "image/png": "[encoded data removed]",
      "text/plain": [
       "<Figure size 432x288 with 1 Axes>"
      ]
     },
     "metadata": {
      "needs_background": "light"
     },
     "output_type": "display_data"
    }
   ],
   "source": [
    "# Answer 10\n",
    "\n",
    "# summarize history for accuracy\n",
    "plt.plot(history3.history['accuracy'])\n",
    "plt.plot(history3.history['val_accuracy'])\n",
    "plt.title('Accuracy of Model 3')\n",
    "plt.ylabel('accuracy')\n",
    "plt.xlabel('epoch')\n",
    "plt.legend(['train', 'test'], loc='upper left')\n",
    "plt.show()"
   ]
  },
  {
   "cell_type": "code",
   "execution_count": 18,
   "id": "mobile-bibliography",
   "metadata": {
    "scrolled": true
   },
   "outputs": [
    {
     "data": {
      "image/png": "[encoded data removed]",
      "text/plain": [
       "<Figure size 432x288 with 1 Axes>"
      ]
     },
     "metadata": {
      "needs_background": "light"
     },
     "output_type": "display_data"
    }
   ],
   "source": [
    "# summarize history for loss\n",
    "plt.plot(history3.history['loss'])\n",
    "plt.plot(history3.history['val_loss'])\n",
    "plt.title('Loss od Model 3')\n",
    "plt.ylabel('loss')\n",
    "plt.xlabel('epoch')\n",
    "plt.legend(['train', 'test'], loc='upper left')\n",
    "plt.show()"
   ]
  },
  {
   "cell_type": "markdown",
   "id": "invalid-mistress",
   "metadata": {},
   "source": [
    "Question 11: Discuss with your group, then describe to your teacher, how the training history differs from the previous model, for the training and validation sets. What does this tell us about the generalisation of the model?\n",
    "\n",
    "Answer 11: The accuracy of the model improved significantly compared to the precious models. Even after the first epoch both the training and the test data jumped to over 0.98. However, while the training data still showed an increase in accuracy for the model, the test data barely imporved after the first epoch. As the accuracy of the training data is higher than the test data one would have to assume that the model is slightly overfitted. "
   ]
  },
  {
   "cell_type": "markdown",
   "id": "editorial-springer",
   "metadata": {},
   "source": [
    "Question 12: Show your teacher what values you get for the model’s accuracy and loss"
   ]
  },
  {
   "cell_type": "code",
   "execution_count": 11,
   "id": "northern-silver",
   "metadata": {},
   "outputs": [
    {
     "name": "stdout",
     "output_type": "stream",
     "text": [
      "accuracy of Model 3: 0.03574914112687111\n",
      "loss of Model 3: 0.989300012588501\n"
     ]
    }
   ],
   "source": [
    "#Answer 12: \n",
    "accuracy, loss = model3.evaluate(x_test, y_test, verbose=0)\n",
    "print(\"accuracy of Model 3:\", accuracy)\n",
    "print(\"loss of Model 3:\", loss)"
   ]
  },
  {
   "cell_type": "markdown",
   "id": "suburban-trigger",
   "metadata": {},
   "source": [
    "### Question 13:\n",
    "Discuss with your group, then describe to your teacher, whether this accuracy is sufficient for some uses of automatic hand-written digit classification\n",
    "\n",
    "Answer 13: The accuracy of the model is good with ~ 0.99. However, the answer to this qeustion depends on the the use for the model. While 99% might be perfectly sufficient for notetaking on a personal device or a less serious use, if every 100th person doesn't cannot send a check to the intended person or if every 100th letter get's send to the wrong zipcode, this would of course be an issue. "
   ]
  },
  {
   "cell_type": "code",
   "execution_count": 4,
   "id": "center-seeker",
   "metadata": {
    "scrolled": true
   },
   "outputs": [
    {
     "name": "stdout",
     "output_type": "stream",
     "text": [
      "Epoch 1/6\n",
      "375/375 [==============================] - 47s 126ms/step - loss: 0.3084 - accuracy: 0.9041 - val_loss: 0.0778 - val_accuracy: 0.9771\n",
      "Epoch 2/6\n",
      "375/375 [==============================] - 47s 126ms/step - loss: 0.1033 - accuracy: 0.9695 - val_loss: 0.0555 - val_accuracy: 0.9837\n",
      "Epoch 3/6\n",
      "375/375 [==============================] - 47s 126ms/step - loss: 0.0727 - accuracy: 0.9792 - val_loss: 0.0447 - val_accuracy: 0.9871\n",
      "Epoch 4/6\n",
      "375/375 [==============================] - 46s 123ms/step - loss: 0.0577 - accuracy: 0.9830 - val_loss: 0.0433 - val_accuracy: 0.9872\n",
      "Epoch 5/6\n",
      "375/375 [==============================] - 46s 124ms/step - loss: 0.0518 - accuracy: 0.9843 - val_loss: 0.0465 - val_accuracy: 0.9868\n",
      "Epoch 6/6\n",
      "375/375 [==============================] - 47s 126ms/step - loss: 0.0454 - accuracy: 0.9861 - val_loss: 0.0399 - val_accuracy: 0.9890\n"
     ]
    }
   ],
   "source": [
    "# add dropout layers\n",
    "# convolutional model with two layers\n",
    "\n",
    "model4 = keras.Sequential()\n",
    "# 2 convolutional layers\n",
    "model4.add(keras.layers.Conv2D(filters=32, kernel_size=(3, 3), activation=\"relu\", input_shape=(28, 28, 1)))#32 filters in the first layer\n",
    "model4.add(keras.layers.Conv2D(filters=64, kernel_size=(3, 3), activation=\"relu\")) # 64 filters in the second layer with 3x3 pixel filters\n",
    "#pooling to downsize layer to half it's size (2,2) in both dimensions\n",
    "model4.add(keras.layers.MaxPool2D(pool_size=(2, 2)))\n",
    "##### ADD Dropout of 0.25\n",
    "model4.add(keras.layers.Dropout(rate=0.25))\n",
    "#flatten to one dimension\n",
    "model4.add(keras.layers.Flatten())\n",
    "model4.add(keras.layers.Dense(128, activation=\"relu\"))\n",
    "#### ADD Dropout of 0.5\n",
    "model4.add(keras.layers.Dropout(rate=0.5))\n",
    "model4.add(keras.layers.Dense(10, activation=\"softmax\"))\n",
    "#compile the model\n",
    "model4.compile(loss='categorical_crossentropy',\n",
    "              optimizer=keras.optimizers.Adadelta(learning_rate=1),\n",
    "              metrics='accuracy')\n",
    "\n",
    "# fit the model\n",
    "history4 = model4.fit(x_train, y_train, batch_size=128, epochs=6, validation_split=0.2)\n"
   ]
  },
  {
   "cell_type": "code",
   "execution_count": 5,
   "id": "sharp-storm",
   "metadata": {},
   "outputs": [
    {
     "name": "stdout",
     "output_type": "stream",
     "text": [
      "loss of Model 4: 0.02879650518298149\n",
      "accuracy of Model 4: 0.9901000261306763\n"
     ]
    }
   ],
   "source": [
    "loss, accuracy = model4.evaluate(x_test, y_test, verbose=0)\n",
    "print(\"loss of Model 4:\", loss)\n",
    "print(\"accuracy of Model 4:\", accuracy)"
   ]
  },
  {
   "cell_type": "code",
   "execution_count": 12,
   "id": "contrary-round",
   "metadata": {},
   "outputs": [
    {
     "data": {
      "image/png": "[encoded data removed]",
      "text/plain": [
       "<Figure size 432x288 with 1 Axes>"
      ]
     },
     "metadata": {
      "needs_background": "light"
     },
     "output_type": "display_data"
    },
    {
     "data": {
      "image/png": "[encoded data removed]",
      "text/plain": [
       "<Figure size 432x288 with 1 Axes>"
      ]
     },
     "metadata": {
      "needs_background": "light"
     },
     "output_type": "display_data"
    }
   ],
   "source": [
    "# to answer question 14\n",
    "# summarize history for accuracy Model 4\n",
    "plt.plot(history4.history['accuracy'])\n",
    "plt.plot(history4.history['val_accuracy'])\n",
    "plt.title('Accuracy of Model 4')\n",
    "plt.ylabel('accuracy')\n",
    "plt.xlabel('epoch')\n",
    "plt.legend(['train', 'test'], loc='upper left')\n",
    "plt.show()\n",
    "\n",
    "# summarize history for accuracy\n",
    "plt.plot(history3.history['accuracy'])\n",
    "plt.plot(history3.history['val_accuracy'])\n",
    "plt.title('Accuracy of Model 3')\n",
    "plt.ylabel('accuracy')\n",
    "plt.xlabel('epoch')\n",
    "plt.legend(['train', 'test'], loc='upper left')\n",
    "plt.show()"
   ]
  },
  {
   "cell_type": "markdown",
   "id": "international-regulation",
   "metadata": {},
   "source": [
    "### Question 14:\n",
    "Discuss with your group, then describe to your teacher, how the training history\n",
    "differs from the previous (convolutional) model, for both the training and validation\n",
    "sets, and for the time taken to run each model epoch\n",
    "\n",
    "Answer 14: The model 3 (convolutional model) shows a faster improvement in accuracy after the first epoch and jumps to apx. 0.98 after the first epoch while model 4 is at 0.96 after the first run. Model 4 however, increases the accuracy up to the 5th epoch where the training and test datasets run paralletl in the plot above which shows that the generalizability does not improve further. Model 3 shows an increase in accuracy of the test set which is significantly bigger than the training set. This indicated overfitting. Over the run of all 6 epochs the training and test accuracy grow a larger distance in accuracy which indicated that the models generalizability decreases over the course of the runs while the accuracy of the training data increases. The computational cost that is a bit higher in model 4 than in model 3 is \n"
   ]
  },
  {
   "cell_type": "markdown",
   "id": "israeli-morgan",
   "metadata": {},
   "source": [
    "### Question 15:\n",
    "Discuss with your group, then describe to your teacher, what this tells us about the generalisation of the two models.\n",
    "\n",
    "Answer 15: The difference between the two models is especially important as this model does not show signs of overfitting like the model 3 (convolutional model) where the training accuracy was better than the test accuracy. In this case the model performs even better on the test dataset. With an accuracy of 0.9901 the models accuracy didn't differ much from the accuracy of model 3 (0.9893) , however the fact that there is no indicator of overfitting makes it a better model. the distance between the training dataset and the test dataset as plottet above is smaller than in model 3 while the accuracy increased. This makes model 4 a better model with a better generalisability of the model. \n"
   ]
  }
 ],
 "metadata": {
  "kernelspec": {
   "display_name": "Python 3",
   "language": "python",
   "name": "python3"
  },
  "language_info": {
   "codemirror_mode": {
    "name": "ipython",
    "version": 3
   },
   "file_extension": ".py",
   "mimetype": "text/x-python",
   "name": "python",
   "nbconvert_exporter": "python",
   "pygments_lexer": "ipython3",
   "version": "3.8.5"
  }
 },
 "nbformat": 4,
 "nbformat_minor": 5
}
