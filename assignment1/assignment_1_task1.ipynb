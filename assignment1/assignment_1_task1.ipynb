{
 "cells": [
  {
   "cell_type": "markdown",
   "id": "exposed-james",
   "metadata": {},
   "source": [
    "# Assignment 1:\n",
    "## Image recognition using deep networks"
   ]
  },
  {
   "cell_type": "code",
   "execution_count": 35,
   "id": "inside-while",
   "metadata": {},
   "outputs": [],
   "source": [
    "import numpy as np\n",
    "from tensorflow import keras\n",
    "from tensorflow.keras import layers\n",
    "import matplotlib.pyplot as plt"
   ]
  },
  {
   "cell_type": "code",
   "execution_count": 36,
   "id": "dress-lingerie",
   "metadata": {},
   "outputs": [
    {
     "data": {
      "text/plain": [
       "'2.4.0'"
      ]
     },
     "execution_count": 36,
     "metadata": {},
     "output_type": "execute_result"
    }
   ],
   "source": [
    "keras.__version__"
   ]
  },
  {
   "cell_type": "markdown",
   "id": "paperback-trinity",
   "metadata": {},
   "source": [
    "###Question 1:\n",
    "Discuss with your group, then describe to your teacher, a list of applications where automatic recognition of hand-written numbers would be useful.\n",
    "\n",
    "Answer 1: transforming handwritten notes into a document. Signature detection to see if it was the actual person."
   ]
  },
  {
   "cell_type": "code",
   "execution_count": 37,
   "id": "irish-collaboration",
   "metadata": {},
   "outputs": [],
   "source": [
    "# dataset of 60k grayscale images of handwritten numbers (x_train) and \n",
    "# labels of each picture (y_train)\n",
    "(x_train, y_train), (x_test, y_test) = keras.datasets.mnist.load_data()"
   ]
  },
  {
   "cell_type": "code",
   "execution_count": 38,
   "id": "super-married",
   "metadata": {},
   "outputs": [
    {
     "name": "stdout",
     "output_type": "stream",
     "text": [
      "(60000, 28, 28)\n"
     ]
    }
   ],
   "source": [
    "print(x_train.shape)"
   ]
  },
  {
   "cell_type": "markdown",
   "id": "polish-anger",
   "metadata": {},
   "source": [
    "Before using a deep convolutional network, we will test a multilayer perceptron. This is a type of artificial neural network where all nodes in each layer are connected to all nodes in the next layer."
   ]
  },
  {
   "cell_type": "markdown",
   "id": "actual-storage",
   "metadata": {},
   "source": [
    "## Data Preparation"
   ]
  },
  {
   "cell_type": "markdown",
   "id": "confident-nickname",
   "metadata": {},
   "source": [
    "flattening the two spatial dimensions to convert from a 60000x28x28 training set to a 60000x784 training set"
   ]
  },
  {
   "cell_type": "code",
   "execution_count": 39,
   "id": "fiscal-rouge",
   "metadata": {},
   "outputs": [
    {
     "name": "stdout",
     "output_type": "stream",
     "text": [
      "(60000, 784)\n",
      "(10000, 784)\n"
     ]
    }
   ],
   "source": [
    "# from pixels 28x28 to columns of 784 pixels for each row and saved as new variable\n",
    "# 60000 images & 10000 labels\n",
    "x_train= x_train.reshape((60000,784))\n",
    "x_test=x_test.reshape((10000,784))\n",
    "\n",
    "print(x_train.shape)\n",
    "print(x_test.shape)"
   ]
  },
  {
   "cell_type": "code",
   "execution_count": 40,
   "id": "obvious-classic",
   "metadata": {},
   "outputs": [],
   "source": [
    "# rescale to values between zero and one by dividing by 255\n",
    "x_train = x_train/255\n",
    "x_test = x_test/255"
   ]
  },
  {
   "cell_type": "code",
   "execution_count": 41,
   "id": "religious-meaning",
   "metadata": {},
   "outputs": [
    {
     "name": "stdout",
     "output_type": "stream",
     "text": [
      "[1. 0. 0. 0. 0. 0. 0. 0. 0. 0.]\n",
      "[0. 0. 1. 0. 0. 0. 0. 0. 0. 0.]\n"
     ]
    }
   ],
   "source": [
    "# convert train and testset labels to two new variables y_train and y_test \n",
    "# so that all labels 1-10 are separate network units in the output layer\n",
    "# each label then has 10 elements (9 are zeros & 1 is 1)\n",
    "\n",
    "y_train = keras.utils.to_categorical(y_train, 10)\n",
    "y_test = keras.utils.to_categorical(y_test, 10)\n",
    "\n",
    "print(y_train[1])\n",
    "print(y_test[1])"
   ]
  },
  {
   "cell_type": "markdown",
   "id": "concerned-nowhere",
   "metadata": {},
   "source": [
    "## Model definition"
   ]
  },
  {
   "cell_type": "code",
   "execution_count": 42,
   "id": "signed-christian",
   "metadata": {},
   "outputs": [
    {
     "name": "stdout",
     "output_type": "stream",
     "text": [
      "Model: \"sequential_2\"\n",
      "_________________________________________________________________\n",
      "Layer (type)                 Output Shape              Param #   \n",
      "=================================================================\n",
      "dense_4 (Dense)              (None, 256)               200960    \n",
      "_________________________________________________________________\n",
      "dense_5 (Dense)              (None, 10)                2570      \n",
      "=================================================================\n",
      "Total params: 203,530\n",
      "Trainable params: 203,530\n",
      "Non-trainable params: 0\n",
      "_________________________________________________________________\n",
      "Epoch 1/12\n",
      "375/375 [==============================] - 1s 3ms/step - loss: 0.4004 - accuracy: 0.8850 - val_loss: 0.2997 - val_accuracy: 0.9157\n",
      "Epoch 2/12\n",
      "375/375 [==============================] - 1s 2ms/step - loss: 0.3091 - accuracy: 0.9133 - val_loss: 0.2790 - val_accuracy: 0.9219\n",
      "Epoch 3/12\n",
      "375/375 [==============================] - 1s 2ms/step - loss: 0.2944 - accuracy: 0.9186 - val_loss: 0.2768 - val_accuracy: 0.9243\n",
      "Epoch 4/12\n",
      "375/375 [==============================] - 1s 2ms/step - loss: 0.2873 - accuracy: 0.9197 - val_loss: 0.2789 - val_accuracy: 0.9244\n",
      "Epoch 5/12\n",
      "375/375 [==============================] - 1s 2ms/step - loss: 0.2822 - accuracy: 0.9204 - val_loss: 0.2831 - val_accuracy: 0.9226\n",
      "Epoch 6/12\n",
      "375/375 [==============================] - 1s 2ms/step - loss: 0.2778 - accuracy: 0.9220 - val_loss: 0.2829 - val_accuracy: 0.9252\n",
      "Epoch 7/12\n",
      "375/375 [==============================] - 1s 2ms/step - loss: 0.2751 - accuracy: 0.9241 - val_loss: 0.2797 - val_accuracy: 0.9241\n",
      "Epoch 8/12\n",
      "375/375 [==============================] - 1s 2ms/step - loss: 0.2706 - accuracy: 0.9244 - val_loss: 0.2862 - val_accuracy: 0.9233\n",
      "Epoch 9/12\n",
      "375/375 [==============================] - 1s 2ms/step - loss: 0.2693 - accuracy: 0.9240 - val_loss: 0.2737 - val_accuracy: 0.9257\n",
      "Epoch 10/12\n",
      "375/375 [==============================] - 1s 2ms/step - loss: 0.2663 - accuracy: 0.9257 - val_loss: 0.2677 - val_accuracy: 0.9271\n",
      "Epoch 11/12\n",
      "375/375 [==============================] - 1s 2ms/step - loss: 0.2654 - accuracy: 0.9253 - val_loss: 0.2814 - val_accuracy: 0.9242\n",
      "Epoch 12/12\n",
      "375/375 [==============================] - 1s 2ms/step - loss: 0.2642 - accuracy: 0.9268 - val_loss: 0.2777 - val_accuracy: 0.9233\n",
      "Model: \"sequential_2\"\n",
      "_________________________________________________________________\n",
      "Layer (type)                 Output Shape              Param #   \n",
      "=================================================================\n",
      "dense_4 (Dense)              (None, 256)               200960    \n",
      "_________________________________________________________________\n",
      "dense_5 (Dense)              (None, 10)                2570      \n",
      "=================================================================\n",
      "Total params: 203,530\n",
      "Trainable params: 203,530\n",
      "Non-trainable params: 0\n",
      "_________________________________________________________________\n"
     ]
    }
   ],
   "source": [
    "# pass 784 input units into 256-unit fully connected hidden layer\n",
    "# input shape put into 256 nodes\n",
    "# feeds into output layer (label) which is activated with softmax function\n",
    "\n",
    "model = keras.Sequential()\n",
    "model.add(keras.layers.Dense(256, input_shape=(784,))) #256 number of nodes that are fully connected\n",
    "model.add(keras.layers.Dense(10, activation='softmax'))\n",
    "\n",
    "model.summary()\n",
    "\n",
    "# then compile model with loss functions (categorial crossentropy)\n",
    "# & optimisation procedures (RMSprop=  moving average of the square of gradients\n",
    "# and Divide the gradient by the root of this average )\n",
    "# & performance measure (accuracy)\n",
    "\n",
    "model.compile(loss='categorical_crossentropy',\n",
    "optimizer=keras.optimizers.RMSprop(), metrics='accuracy')\n",
    "\n",
    "# fit the model to training set\n",
    "# 12 training epochs (how many times)\n",
    "# batch size = 128 image lable pairs per epoch \n",
    "history = model.fit(x_train, y_train, batch_size=128,\n",
    "epochs=12, verbose=1, validation_split=0.2) #always the same split so this doesn't change over epochs\n",
    "\n",
    "model.summary()"
   ]
  },
  {
   "cell_type": "markdown",
   "id": "amino-movement",
   "metadata": {},
   "source": [
    "###Question 2: \n",
    "Show your teacher the text from your console, with how long it took for each epoch to run and the training performance history \n",
    "\n",
    "Answer: See above"
   ]
  },
  {
   "cell_type": "markdown",
   "id": "governmental-chinese",
   "metadata": {},
   "source": [
    "Question 3: Plot the training history"
   ]
  },
  {
   "cell_type": "code",
   "execution_count": 43,
   "id": "needed-conducting",
   "metadata": {},
   "outputs": [
    {
     "name": "stdout",
     "output_type": "stream",
     "text": [
      "dict_keys(['loss', 'accuracy', 'val_loss', 'val_accuracy'])\n"
     ]
    },
    {
     "data": {
      "image/png": "[encoded data removed]",
      "text/plain": [
       "<Figure size 432x288 with 1 Axes>"
      ]
     },
     "metadata": {
      "needs_background": "light"
     },
     "output_type": "display_data"
    }
   ],
   "source": [
    "# Answer Question 3\n",
    "print(history.history.keys())\n",
    "\n",
    "# summarize history for accuracy\n",
    "plt.plot(history.history['accuracy'])\n",
    "plt.plot(history.history['val_accuracy'])\n",
    "plt.title('model accuracy')\n",
    "plt.ylabel('accuracy')\n",
    "plt.xlabel('epoch')\n",
    "plt.legend(['train', 'test'], loc='upper left')\n",
    "plt.show()"
   ]
  },
  {
   "cell_type": "code",
   "execution_count": 44,
   "id": "taken-field",
   "metadata": {},
   "outputs": [
    {
     "data": {
      "image/png": "[encoded data removed]",
      "text/plain": [
       "<Figure size 432x288 with 1 Axes>"
      ]
     },
     "metadata": {
      "needs_background": "light"
     },
     "output_type": "display_data"
    }
   ],
   "source": [
    "# summarize history for loss\n",
    "plt.plot(history.history['loss'])\n",
    "plt.plot(history.history['val_loss'])\n",
    "plt.title('model loss')\n",
    "plt.ylabel('loss')\n",
    "plt.xlabel('epoch')\n",
    "plt.legend(['train', 'test'], loc='upper left')\n",
    "plt.show()"
   ]
  },
  {
   "cell_type": "markdown",
   "id": "designing-split",
   "metadata": {},
   "source": [
    "###Question 4:\n",
    "Discuss with your group, then describe to your teacher, how the accuracy on the training and validation sets progress differently across epochs, and what this tells us about the generalisation of the model. \n",
    "\n",
    "Answer 4: The accuracy gets better over time for both the validation and the training set. However, one oculd also see that the accuracy of the validation set was higher than the training set for the first few (five) epochs in this run which would be a sign of underfitting. By the end of the 12 epochs the model showed an accuracy of loss: 0.2633 - accuracy: 0.9260 - val_loss: 0.2852 - val_accuracy: 0.9259 which is still not great. \n",
    "\n",
    "HERE referring to the generalization WITHIN the same data so just between test and training set."
   ]
  },
  {
   "cell_type": "markdown",
   "id": "creative-sheriff",
   "metadata": {},
   "source": [
    "###Question 5:\n",
    "Evaluate the model performance on the test set using the following command: \n",
    "loss, accuracy = model.evaluate(x_test, y_test, verbose=0)\n",
    "Show your teacher what values you get for the model’s accuracy and loss. "
   ]
  },
  {
   "cell_type": "code",
   "execution_count": 45,
   "id": "particular-transportation",
   "metadata": {},
   "outputs": [
    {
     "name": "stdout",
     "output_type": "stream",
     "text": [
      "loss of Model 1 0.2851683497428894\n",
      "accuracy of Model 1 0.9205999970436096\n"
     ]
    }
   ],
   "source": [
    "#Answer Question 5\n",
    "accuracy, loss = model.evaluate(x_test, y_test, verbose=0)\n",
    "print(\"loss of Model 1\", accuracy)\n",
    "print(\"accuracy of Model 1\", loss)"
   ]
  },
  {
   "cell_type": "markdown",
   "id": "mechanical-surveillance",
   "metadata": {},
   "source": [
    "###Question 6:\n",
    "Discuss with your group, then describe to your teacher, whether this accuracy is sufficient for some uses of automatic hand-written digit classification.\n",
    "\n",
    "Answer 6: It's not sufficient as this is a simple task that should be more accurate. If we used this model in a bank or a more serious task 8% are a big issue. "
   ]
  },
  {
   "cell_type": "markdown",
   "id": "norwegian-sister",
   "metadata": {},
   "source": [
    "###Question 7:\n",
    "In the previous model, we did not specify an activation function for our hidden layer, so it used the default linear activation. Discuss with your group, then describe to your teacher, how linear activation of units limits the possible computations this model can perform.\n",
    "\n",
    "Answer 7: \n",
    "Even though we can connect a few neurons and e.g. make decisions on the max or sofmax of multiple neurons, this is a limiting approach. \n",
    "The gradient has not relationship with X (A = cx) as it is constant. \n",
    "This means that if there is an error in prediction (which there will be) then we cannot make changes depending on the input but only constant changes. \n",
    "\n",
    "Also each layer is activated by a linear function. So each layers activation goes into the next level as input to calculate the weighted sum and then fires on a linear function etc. So no matter how many layers there is, if they are linear in nature the final activation fucntion is still a linear function of the very first layer. \n",
    "\n",
    "Baiscally, with linear activation there is no point in adding layers as they are all dependend on the first layer. This makes the model very simple which of course can be good for some approaches but denies the chance of complex relationships within the model."
   ]
  },
  {
   "cell_type": "markdown",
   "id": "interstate-ready",
   "metadata": {},
   "source": [
    "## New Model with relu for non-linearity"
   ]
  },
  {
   "cell_type": "code",
   "execution_count": 46,
   "id": "appointed-mentor",
   "metadata": {},
   "outputs": [
    {
     "name": "stdout",
     "output_type": "stream",
     "text": [
      "Model: \"sequential_3\"\n",
      "_________________________________________________________________\n",
      "Layer (type)                 Output Shape              Param #   \n",
      "=================================================================\n",
      "dense_6 (Dense)              (None, 256)               200960    \n",
      "_________________________________________________________________\n",
      "dense_7 (Dense)              (None, 10)                2570      \n",
      "=================================================================\n",
      "Total params: 203,530\n",
      "Trainable params: 203,530\n",
      "Non-trainable params: 0\n",
      "_________________________________________________________________\n",
      "Epoch 1/12\n",
      "375/375 [==============================] - 1s 4ms/step - loss: 0.3218 - accuracy: 0.9092 - val_loss: 0.1797 - val_accuracy: 0.9503\n",
      "Epoch 2/12\n",
      "375/375 [==============================] - 1s 3ms/step - loss: 0.1468 - accuracy: 0.9577 - val_loss: 0.1240 - val_accuracy: 0.9647\n",
      "Epoch 3/12\n",
      "375/375 [==============================] - 1s 3ms/step - loss: 0.1003 - accuracy: 0.9705 - val_loss: 0.1059 - val_accuracy: 0.9694\n",
      "Epoch 4/12\n",
      "375/375 [==============================] - 1s 3ms/step - loss: 0.0736 - accuracy: 0.9789 - val_loss: 0.0975 - val_accuracy: 0.9715\n",
      "Epoch 5/12\n",
      "375/375 [==============================] - 1s 3ms/step - loss: 0.0567 - accuracy: 0.9834 - val_loss: 0.0919 - val_accuracy: 0.9749\n",
      "Epoch 6/12\n",
      "375/375 [==============================] - 1s 3ms/step - loss: 0.0458 - accuracy: 0.9870 - val_loss: 0.0852 - val_accuracy: 0.9761\n",
      "Epoch 7/12\n",
      "375/375 [==============================] - 1s 2ms/step - loss: 0.0367 - accuracy: 0.9896 - val_loss: 0.0845 - val_accuracy: 0.9768\n",
      "Epoch 8/12\n",
      "375/375 [==============================] - 1s 2ms/step - loss: 0.0287 - accuracy: 0.9923 - val_loss: 0.0887 - val_accuracy: 0.9756\n",
      "Epoch 9/12\n",
      "375/375 [==============================] - 1s 3ms/step - loss: 0.0234 - accuracy: 0.9937 - val_loss: 0.0827 - val_accuracy: 0.9787\n",
      "Epoch 10/12\n",
      "375/375 [==============================] - 1s 3ms/step - loss: 0.0192 - accuracy: 0.9950 - val_loss: 0.0813 - val_accuracy: 0.9781\n",
      "Epoch 11/12\n",
      "375/375 [==============================] - 1s 2ms/step - loss: 0.0157 - accuracy: 0.9961 - val_loss: 0.0881 - val_accuracy: 0.9783\n",
      "Epoch 12/12\n",
      "375/375 [==============================] - 1s 2ms/step - loss: 0.0122 - accuracy: 0.9966 - val_loss: 0.0865 - val_accuracy: 0.9778\n"
     ]
    }
   ],
   "source": [
    "# model with relu = rectified linear unit\n",
    "# linear function that will output the input directly if it is positive, otherwise, it will output zero\n",
    "# pass 784 input units into 256 unit hidden layer\n",
    "\n",
    "model2 = keras.Sequential()\n",
    "model2.add(keras.layers.Dense(256, input_shape=(784,), activation='relu'))\n",
    "model2.add(keras.layers.Dense(10, activation='softmax')) \n",
    "model2.summary()\n",
    "\n",
    "#compile with metric accuracy \n",
    "model2.compile(loss='categorical_crossentropy', \n",
    "               optimizer=keras.optimizers.RMSprop(), metrics='accuracy')\n",
    "\n",
    "#same batch size 128 and epochs 12 as model1\n",
    "history2 = model2.fit(x_train, y_train, batch_size=128, \n",
    "                    epochs=12, verbose=1, validation_split=0.2)\n"
   ]
  },
  {
   "cell_type": "markdown",
   "id": "incredible-price",
   "metadata": {},
   "source": [
    "###Question 8:\n",
    "Plot the training history and show it to your teacher"
   ]
  },
  {
   "cell_type": "code",
   "execution_count": 47,
   "id": "great-receptor",
   "metadata": {},
   "outputs": [
    {
     "name": "stdout",
     "output_type": "stream",
     "text": [
      "dict_keys(['loss', 'accuracy', 'val_loss', 'val_accuracy'])\n"
     ]
    },
    {
     "data": {
      "image/png": "[encoded data removed]",
      "text/plain": [
       "<Figure size 432x288 with 1 Axes>"
      ]
     },
     "metadata": {
      "needs_background": "light"
     },
     "output_type": "display_data"
    },
    {
     "name": "stdout",
     "output_type": "stream",
     "text": [
      "dict_keys(['loss', 'accuracy', 'val_loss', 'val_accuracy'])\n"
     ]
    },
    {
     "data": {
      "image/png": "[encoded data removed]",
      "text/plain": [
       "<Figure size 432x288 with 1 Axes>"
      ]
     },
     "metadata": {
      "needs_background": "light"
     },
     "output_type": "display_data"
    },
    {
     "name": "stdout",
     "output_type": "stream",
     "text": [
      "validation loss and accuracy of Model 1 [0.2851683497428894, 0.9205999970436096]\n",
      "validation loss and accuracy of Model 2 [0.07324250787496567, 0.9812999963760376]\n"
     ]
    }
   ],
   "source": [
    "# Answer Question 8\n",
    "print(history2.history.keys())\n",
    "\n",
    "# summarize history for accuracy\n",
    "plt.plot(history2.history['accuracy'])\n",
    "plt.plot(history2.history['val_accuracy'])\n",
    "plt.title('Accuracy of Model 2')\n",
    "plt.ylabel('accuracy')\n",
    "plt.xlabel('epoch')\n",
    "plt.legend(['train', 'validation'], loc='upper left')\n",
    "plt.show()\n",
    "\n",
    "### to compare the two plots\n",
    "\n",
    "# Answer Question 3\n",
    "print(history.history.keys())\n",
    "\n",
    "# summarize history for accuracy\n",
    "plt.plot(history.history['accuracy'])\n",
    "plt.plot(history.history['val_accuracy'])\n",
    "plt.title('Accuracy of Model 1')\n",
    "plt.ylabel('accuracy')\n",
    "plt.xlabel('epoch')\n",
    "plt.legend(['train', 'validation'], loc='upper left')\n",
    "plt.show()\n",
    "\n",
    "accuracy_loss = model.evaluate(x_test, y_test, verbose=0)\n",
    "print(\"validation loss and accuracy of Model 1\", accuracy_loss)\n",
    "\n",
    "accuracy_loss_2 = model2.evaluate(x_test, y_test, verbose=0)\n",
    "print(\"validation loss and accuracy of Model 2\", accuracy_loss_2)"
   ]
  },
  {
   "cell_type": "markdown",
   "id": "ordered-distribution",
   "metadata": {},
   "source": [
    "###Question 9:\n",
    "Discuss with your group, then describe to your teacher, how this training history\n",
    "differs from the previous model, for the training and validation sets. \n",
    "Describe what this tells us about the generalisation of the model.\n",
    "\n",
    "Answer 9: The non-linear model 2 performs significantly better than the first model. \n",
    "The validation loss from Model 1 (0.2844) decreases significantly (0.0847) and the model accuracy increases by almost 5%. Still there was quite the gap between the validation and the training data, showing that both models even though they were imporved, may not be well suited for a general use. OVERFITTING"
   ]
  },
  {
   "cell_type": "code",
   "execution_count": 48,
   "id": "partial-texture",
   "metadata": {},
   "outputs": [
    {
     "data": {
      "image/png": "[encoded data removed]",
      "text/plain": [
       "<Figure size 432x288 with 1 Axes>"
      ]
     },
     "metadata": {
      "needs_background": "light"
     },
     "output_type": "display_data"
    }
   ],
   "source": [
    "# summarize history for loss\n",
    "plt.plot(history2.history['loss'])\n",
    "plt.plot(history2.history['val_loss'])\n",
    "plt.title('Loss Model 2')\n",
    "plt.ylabel('loss')\n",
    "plt.xlabel('epoch')\n",
    "plt.legend(['training', 'validation'], loc='upper left')\n",
    "plt.show()"
   ]
  },
  {
   "cell_type": "code",
   "execution_count": null,
   "id": "following-dairy",
   "metadata": {},
   "outputs": [],
   "source": []
  }
 ],
 "metadata": {
  "kernelspec": {
   "display_name": "Python 3",
   "language": "python",
   "name": "python3"
  },
  "language_info": {
   "codemirror_mode": {
    "name": "ipython",
    "version": 3
   },
   "file_extension": ".py",
   "mimetype": "text/x-python",
   "name": "python",
   "nbconvert_exporter": "python",
   "pygments_lexer": "ipython3",
   "version": "3.8.5"
  }
 },
 "nbformat": 4,
 "nbformat_minor": 5
}
